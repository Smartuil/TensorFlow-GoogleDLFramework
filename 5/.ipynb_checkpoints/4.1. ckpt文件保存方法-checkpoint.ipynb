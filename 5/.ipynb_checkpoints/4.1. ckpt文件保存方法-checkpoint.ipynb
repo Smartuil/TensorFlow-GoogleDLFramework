{
 "cells": [
  {
   "cell_type": "code",
   "execution_count": 1,
   "metadata": {
    "ExecuteTime": {
     "end_time": "2019-10-28T02:12:45.920028Z",
     "start_time": "2019-10-28T02:12:42.542126Z"
    }
   },
   "outputs": [],
   "source": [
    "import tensorflow as tf"
   ]
  },
  {
   "cell_type": "markdown",
   "metadata": {},
   "source": [
    "#### 1. 保存计算两个变量和的模型。"
   ]
  },
  {
   "cell_type": "code",
   "execution_count": 2,
   "metadata": {
    "ExecuteTime": {
     "end_time": "2019-10-28T02:12:47.829918Z",
     "start_time": "2019-10-28T02:12:45.920871Z"
    }
   },
   "outputs": [],
   "source": [
    "v1 = tf.Variable(tf.random_normal([1], stddev=1, seed=1))\n",
    "v2 = tf.Variable(tf.random_normal([1], stddev=1, seed=1))\n",
    "result = v1 + v2\n",
    "\n",
    "init_op = tf.global_variables_initializer()\n",
    "saver = tf.train.Saver()\n",
    "\n",
    "with tf.Session() as sess:\n",
    "    sess.run(init_op)\n",
    "    saver.save(sess, \"Saved_model/model.ckpt\")"
   ]
  },
  {
   "cell_type": "markdown",
   "metadata": {},
   "source": [
    "#### 2. 加载保存了两个变量和的模型。"
   ]
  },
  {
   "cell_type": "code",
   "execution_count": 4,
   "metadata": {
    "ExecuteTime": {
     "end_time": "2019-10-28T02:12:59.315905Z",
     "start_time": "2019-10-28T02:12:59.247114Z"
    }
   },
   "outputs": [
    {
     "name": "stdout",
     "output_type": "stream",
     "text": [
      "WARNING:tensorflow:From C:\\Program Files\\Anaconda\\lib\\site-packages\\tensorflow\\python\\training\\saver.py:1276: checkpoint_exists (from tensorflow.python.training.checkpoint_management) is deprecated and will be removed in a future version.\n",
      "Instructions for updating:\n",
      "Use standard file APIs to check for files with this prefix.\n",
      "INFO:tensorflow:Restoring parameters from Saved_model/model.ckpt\n",
      "[-1.6226364]\n"
     ]
    }
   ],
   "source": [
    "with tf.Session() as sess:\n",
    "    saver.restore(sess, \"Saved_model/model.ckpt\")\n",
    "    print(sess.run(result))"
   ]
  },
  {
   "cell_type": "markdown",
   "metadata": {},
   "source": [
    "#### 3. 直接加载持久化的图。因为之前没有导出v3，所以这里会报错。"
   ]
  },
  {
   "cell_type": "code",
   "execution_count": null,
   "metadata": {
    "ExecuteTime": {
     "end_time": "2019-10-28T02:12:47.836899Z",
     "start_time": "2019-10-28T02:12:42.551Z"
    }
   },
   "outputs": [],
   "source": [
    "saver = tf.train.import_meta_graph(\"Saved_model/model.ckpt.meta\")\n",
    "v3 = tf.Variable(tf.random_normal([1], stddev=1, seed=1))\n",
    "\n",
    "with tf.Session() as sess:\n",
    "    saver.restore(sess, \"Saved_model/model.ckpt\")\n",
    "    print(sess.run(v1)) \n",
    "    print(sess.run(v2)) \n",
    "    print(sess.run(v3)) "
   ]
  },
  {
   "cell_type": "markdown",
   "metadata": {},
   "source": [
    "#### 4. 变量重命名。"
   ]
  },
  {
   "cell_type": "code",
   "execution_count": null,
   "metadata": {
    "ExecuteTime": {
     "end_time": "2019-10-28T02:12:47.837934Z",
     "start_time": "2019-10-28T02:12:42.553Z"
    }
   },
   "outputs": [],
   "source": [
    "v1 = tf.Variable(tf.constant(1.0, shape=[1]), name = \"other-v1\")\n",
    "v2 = tf.Variable(tf.constant(2.0, shape=[1]), name = \"other-v2\")\n",
    "saver = tf.train.Saver({\"v1\": v1, \"v2\": v2})"
   ]
  },
  {
   "cell_type": "code",
   "execution_count": null,
   "metadata": {},
   "outputs": [],
   "source": []
  }
 ],
 "metadata": {
  "kernelspec": {
   "display_name": "Python 3",
   "language": "python",
   "name": "python3"
  },
  "language_info": {
   "codemirror_mode": {
    "name": "ipython",
    "version": 3
   },
   "file_extension": ".py",
   "mimetype": "text/x-python",
   "name": "python",
   "nbconvert_exporter": "python",
   "pygments_lexer": "ipython3",
   "version": "3.7.3"
  }
 },
 "nbformat": 4,
 "nbformat_minor": 1
}
